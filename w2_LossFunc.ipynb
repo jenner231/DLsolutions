{
 "cells": [
  {
   "cell_type": "code",
   "execution_count": 1,
   "metadata": {},
   "outputs": [],
   "source": [
    "import torch\n",
    "from torch import nn\n",
    "import numpy as np\n",
    "import matplotlib.pyplot as plt\n",
    "import sklearn.model_selection"
   ]
  },
  {
   "cell_type": "markdown",
   "metadata": {},
   "source": [
    "Python basics"
   ]
  },
  {
   "cell_type": "code",
   "execution_count": 6,
   "metadata": {},
   "outputs": [
    {
     "name": "stdout",
     "output_type": "stream",
     "text": [
      "np array:\n",
      " [[0.82193489 0.8187419  0.89158224]\n",
      " [0.7302311  0.16222177 0.12517206]]\n",
      "tensor:\n",
      " tensor([[0.8219, 0.8187, 0.8916],\n",
      "        [0.7302, 0.1622, 0.1252]], dtype=torch.float64)\n",
      "back to np array:\n",
      " [[0.82193489 0.8187419  0.89158224]\n",
      " [0.7302311  0.16222177 0.12517206]]\n"
     ]
    }
   ],
   "source": [
    "d1 = np.random.rand(2,3)\n",
    "print('np array:' '\\n', d1)\n",
    "\n",
    "t1 = torch.tensor(d1)\n",
    "print('tensor:' '\\n', t1)\n",
    "\n",
    "d2 = t1.numpy()\n",
    "\n",
    "print('back to np array:' '\\n', d2)"
   ]
  },
  {
   "cell_type": "markdown",
   "metadata": {},
   "source": [
    "Tensor basics"
   ]
  },
  {
   "cell_type": "code",
   "execution_count": 12,
   "metadata": {},
   "outputs": [
    {
     "name": "stdout",
     "output_type": "stream",
     "text": [
      "tensor of zeros:\n",
      " tensor([[0, 0, 0, 0],\n",
      "        [0, 0, 0, 0]], dtype=torch.int32)\n",
      "tensor from numpy:\n",
      " tensor([[0.2420, 0.7687, 0.1940]])\n"
     ]
    }
   ],
   "source": [
    "#Tensors are simple to create:\n",
    "tensorOfZeros = torch.zeros([2,4], dtype=torch.int32)\n",
    "print('tensor of zeros:' '\\n', tensorOfZeros)\n",
    "\n",
    "tensorFromNumpy = torch.tensor(np.random.rand(1, 3), dtype=torch.float32)\n",
    "print('tensor from numpy:' '\\n', tensorFromNumpy)"
   ]
  },
  {
   "cell_type": "code",
   "execution_count": 18,
   "metadata": {},
   "outputs": [
    {
     "name": "stdout",
     "output_type": "stream",
     "text": [
      "tensor([[0.2420],\n",
      "        [0.7687],\n",
      "        [0.1940]])\n",
      "tensor([1.2047])\n",
      "tensor([[0.2420],\n",
      "        [0.7687],\n",
      "        [0.1940]])\n"
     ]
    }
   ],
   "source": [
    "newShape = tensorFromNumpy.reshape((3,1))\n",
    "print(newShape)\n",
    "print(newShape.sum(dim=0))\n",
    "print(newShape.float())"
   ]
  },
  {
   "cell_type": "markdown",
   "metadata": {},
   "source": [
    "Tensor basics - autograd"
   ]
  },
  {
   "cell_type": "code",
   "execution_count": 19,
   "metadata": {},
   "outputs": [
    {
     "name": "stdout",
     "output_type": "stream",
     "text": [
      "None\n"
     ]
    }
   ],
   "source": [
    "#The reason why pyutorch and tensors are actually smart, is autograd:\n",
    "w = torch.tensor(2.0, requires_grad=True)\n",
    "\n",
    "x = torch.rand((2,2))\n",
    "\n",
    "x2 = x*w\n",
    "\n",
    "L = torch.sum(x2, axis=(0,1))\n",
    "print(w.grad)"
   ]
  },
  {
   "cell_type": "code",
   "execution_count": 20,
   "metadata": {},
   "outputs": [
    {
     "name": "stdout",
     "output_type": "stream",
     "text": [
      "tensor(2.1236)\n"
     ]
    }
   ],
   "source": [
    "L.retain_grad()\n",
    "x2.retain_grad()\n",
    "L.backward(retain_graph=True)\n",
    "print(w.grad)"
   ]
  },
  {
   "cell_type": "code",
   "execution_count": 21,
   "metadata": {},
   "outputs": [
    {
     "name": "stdout",
     "output_type": "stream",
     "text": [
      "None\n",
      "tensor([[1., 1.],\n",
      "        [1., 1.]])\n",
      "tensor(1.)\n"
     ]
    }
   ],
   "source": [
    "print(x.grad)\n",
    "print(x2.grad)\n",
    "print(L.grad)"
   ]
  },
  {
   "cell_type": "markdown",
   "metadata": {},
   "source": [
    "Dataset and dataloader"
   ]
  },
  {
   "cell_type": "code",
   "execution_count": null,
   "metadata": {},
   "outputs": [],
   "source": []
  },
  {
   "cell_type": "code",
   "execution_count": null,
   "metadata": {},
   "outputs": [],
   "source": [
    "#tensor with 2000 data points, each data point is a 3x4 random matrix\n",
    "data_tensor_X = torch.rand((2000, 3, 4))\n",
    "\n",
    "#ylabels (targets), 2000 integers from 0 to 3:\n",
    "data_tensor_y = torch.randint(low=0, high=4, size=(2000,))\n",
    "\n",
    "#we combine X and y in the same dataset:\n",
    "\n",
    "trainDataset = torch.utils.data.TensorDataset(data_tensor_X, data_tensor_y)\n",
    "\n",
    "trainDataLoader = torch.utils.dataLoader(trainDataset, batch_sioze=32)\n",
    "\n",
    "#it is now very easy to iterate over the training data:\n",
    "#This wont run as the net and loss functions has not been defined yet\n",
    "for xbatch, ybatch in trainDataLoader:\n",
    "    y_pred = net.forward(xbatch) #calculate network output\n",
    "    loss = loss_fn(y_pred, y_miniBatch) #calculate loss for the output\n",
    "    \n",
    "    net.zero_grad()\n",
    "    \n",
    "    loss.backward() #Backprop\n",
    "    optimizer.step()\n",
    "    "
   ]
  },
  {
   "cell_type": "code",
   "execution_count": null,
   "metadata": {},
   "outputs": [],
   "source": []
  }
 ],
 "metadata": {
  "kernelspec": {
   "display_name": "Python 3",
   "language": "python",
   "name": "python3"
  },
  "language_info": {
   "codemirror_mode": {
    "name": "ipython",
    "version": 3
   },
   "file_extension": ".py",
   "mimetype": "text/x-python",
   "name": "python",
   "nbconvert_exporter": "python",
   "pygments_lexer": "ipython3",
   "version": "3.11.5"
  },
  "orig_nbformat": 4
 },
 "nbformat": 4,
 "nbformat_minor": 2
}
