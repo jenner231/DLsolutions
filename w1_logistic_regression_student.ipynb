{
  "cells": [
    {
      "cell_type": "code",
      "execution_count": 3,
      "metadata": {
        "id": "MBsS1qZTtAZE"
      },
      "outputs": [],
      "source": [
        "#load packages\n",
        "import numpy as np\n",
        "import sklearn.model_selection\n",
        "import matplotlib.pyplot as plt\n"
      ]
    },
    {
      "cell_type": "code",
      "execution_count": 4,
      "metadata": {
        "id": "pfhsm8m6tFe_"
      },
      "outputs": [],
      "source": [
        "#make helper functions\n",
        "\n",
        "def plot_digit(X, y, idx):\n",
        "    img = X[idx].reshape(28,28)\n",
        "    plt.imshow(img, cmap='Greys',  interpolation='nearest')\n",
        "    plt.title('true label: %d' % y[idx])\n",
        "    plt.show()\n"
      ]
    },
    {
      "cell_type": "code",
      "execution_count": 6,
      "metadata": {
        "id": "30OCX2pjwGdT"
      },
      "outputs": [],
      "source": [
        "#load data\n",
        "\n",
        "from mlxtend.data import mnist_data\n",
        "X, y = mnist_data()\n",
        "\n",
        "\n",
        "#we just focus on 1's and 0's:\n",
        "keep=(y==0) | (y==1)\n",
        "X=X[keep,:]\n",
        "y=y[keep]\n",
        "\n",
        "y=np.expand_dims(y,1)"
      ]
    },
    {
      "cell_type": "code",
      "execution_count": 16,
      "metadata": {
        "id": "qR1s1Q-twJ7Q"
      },
      "outputs": [
        {
          "name": "stderr",
          "output_type": "stream",
          "text": [
            "C:\\Users\\Jens\\AppData\\Local\\Temp\\ipykernel_14800\\1119189001.py:6: DeprecationWarning: Conversion of an array with ndim > 0 to a scalar is deprecated, and will error in future. Ensure you extract a single element from your array before performing this operation. (Deprecated NumPy 1.25.)\n",
            "  plt.title('true label: %d' % y[idx])\n"
          ]
        },
        {
          "data": {
            "image/png": "[encoded data removed]",
            "text/plain": [
              "<Figure size 640x480 with 1 Axes>"
            ]
          },
          "metadata": {},
          "output_type": "display_data"
        }
      ],
      "source": [
        "#inspect data\n",
        "#(plot digit)\n",
        "\n",
        "plot_digit(X, y, 0)\n"
      ]
    },
    {
      "cell_type": "code",
      "execution_count": null,
      "metadata": {},
      "outputs": [],
      "source": []
    },
    {
      "cell_type": "code",
      "execution_count": 17,
      "metadata": {
        "id": "4cg7bDdAwSsl"
      },
      "outputs": [],
      "source": [
        "# create a loss function:\n",
        "def avrLoss(y,a):\n",
        "  #INSERT CODE\n",
        "  loss = -(y*np.log(a)+(1-y)*np.log(1-a))\n",
        "  return np.mean(loss)"
      ]
    },
    {
      "cell_type": "code",
      "execution_count": 18,
      "metadata": {
        "id": "jlbHgUIjwXiT"
      },
      "outputs": [],
      "source": [
        "#test loss function:\n",
        "#(just run this cell and see what happens)\n",
        "\n",
        "\n",
        "loss=avrLoss(np.array([0,1,0,1]),np.linspace(.1,.9,4))\n",
        "assert np.all(loss==0.5543313122608056)"
      ]
    },
    {
      "cell_type": "code",
      "execution_count": 19,
      "metadata": {
        "id": "LdCmhY63weJO"
      },
      "outputs": [],
      "source": [
        "#create a sigmoid\n",
        "def sigmoid(z):\n",
        "  #INSERT CODE\n",
        "  return 1/(1+np.exp(-z))"
      ]
    },
    {
      "cell_type": "code",
      "execution_count": 20,
      "metadata": {
        "id": "_W17O55pwiIV"
      },
      "outputs": [],
      "source": [
        "#check sigmoid\n",
        "#(just run this cell and see what happens)\n",
        "\n",
        "out=sigmoid(np.array(range(-5,5)))\n",
        "assert np.all(np.around(out,8)==np.array([0.00669285, 0.01798621, 0.04742587, 0.11920292, 0.26894142, 0.5, 0.73105858, 0.88079708, 0.95257413, 0.98201379]))"
      ]
    },
    {
      "cell_type": "code",
      "execution_count": 25,
      "metadata": {
        "id": "LhAlECUCwh8r"
      },
      "outputs": [
        {
          "name": "stdout",
          "output_type": "stream",
          "text": [
            "(700, 784)\n"
          ]
        }
      ],
      "source": [
        "#make test & train data\n",
        "\n",
        "Xtrain,Xtest,ytrain,ytest=sklearn.model_selection.train_test_split(X,y,test_size=0.3,shuffle=True)\n",
        "print(Xtrain.shape)"
      ]
    },
    {
      "cell_type": "code",
      "execution_count": 41,
      "metadata": {
        "id": "wK_4dd1ywox5"
      },
      "outputs": [
        {
          "name": "stderr",
          "output_type": "stream",
          "text": [
            "C:\\Users\\Jens\\AppData\\Local\\Temp\\ipykernel_14800\\1653162143.py:4: RuntimeWarning: overflow encountered in exp\n",
            "  return 1/(1+np.exp(-z))\n",
            "C:\\Users\\Jens\\AppData\\Local\\Temp\\ipykernel_14800\\1236723548.py:4: RuntimeWarning: divide by zero encountered in log\n",
            "  loss = -(y*np.log(a)+(1-y)*np.log(1-a))\n",
            "C:\\Users\\Jens\\AppData\\Local\\Temp\\ipykernel_14800\\1236723548.py:4: RuntimeWarning: invalid value encountered in multiply\n",
            "  loss = -(y*np.log(a)+(1-y)*np.log(1-a))\n"
          ]
        },
        {
          "name": "stdout",
          "output_type": "stream",
          "text": [
            "0 nan 0.5442857142857143\n",
            "10 nan 0.9914285714285714\n",
            "20 nan 0.9942857142857143\n",
            "30 nan 0.9971428571428571\n",
            "40 nan 0.9971428571428571\n",
            "50 nan 0.9971428571428571\n",
            "60 nan 0.9985714285714286\n",
            "70 nan 1.0\n",
            "80 nan 1.0\n",
            "90 nan 1.0\n",
            "100 nan 1.0\n",
            "110 nan 1.0\n",
            "120 nan 1.0\n",
            "130 nan 1.0\n",
            "140 nan 1.0\n",
            "150 nan 1.0\n",
            "160 nan 1.0\n",
            "170 nan 1.0\n",
            "180 nan 1.0\n",
            "190 nan 1.0\n",
            "200 nan 1.0\n",
            "210 nan 1.0\n",
            "220 nan 1.0\n",
            "230 nan 1.0\n",
            "240 nan 1.0\n",
            "250 nan 1.0\n",
            "260 nan 1.0\n",
            "270 nan 1.0\n",
            "280 nan 1.0\n",
            "290 nan 1.0\n",
            "300 nan 1.0\n",
            "310 nan 1.0\n",
            "320 nan 1.0\n",
            "330 nan 1.0\n",
            "340 nan 1.0\n",
            "350 nan 1.0\n",
            "360 nan 1.0\n",
            "370 nan 1.0\n",
            "380 nan 1.0\n",
            "390 nan 1.0\n",
            "400 nan 1.0\n",
            "410 nan 1.0\n",
            "420 nan 1.0\n",
            "430 nan 1.0\n",
            "440 nan 1.0\n",
            "450 nan 1.0\n",
            "460 nan 1.0\n",
            "470 nan 1.0\n",
            "480 nan 1.0\n",
            "490 nan 1.0\n",
            "500 nan 1.0\n",
            "510 nan 1.0\n",
            "520 nan 1.0\n",
            "530 nan 1.0\n",
            "540 nan 1.0\n",
            "550 nan 1.0\n",
            "560 nan 1.0\n",
            "570 nan 1.0\n",
            "580 nan 1.0\n",
            "590 nan 1.0\n",
            "600 nan 1.0\n",
            "610 nan 1.0\n",
            "620 nan 1.0\n",
            "630 nan 1.0\n",
            "640 nan 1.0\n",
            "650 nan 1.0\n",
            "660 nan 1.0\n",
            "670 nan 1.0\n",
            "680 nan 1.0\n",
            "690 nan 1.0\n",
            "700 nan 1.0\n",
            "710 nan 1.0\n",
            "720 nan 1.0\n",
            "730 nan 1.0\n",
            "740 nan 1.0\n",
            "750 nan 1.0\n",
            "760 nan 1.0\n",
            "770 nan 1.0\n",
            "780 nan 1.0\n",
            "790 nan 1.0\n",
            "800 nan 1.0\n",
            "810 nan 1.0\n",
            "820 nan 1.0\n",
            "830 nan 1.0\n",
            "840 nan 1.0\n",
            "850 nan 1.0\n",
            "860 nan 1.0\n",
            "870 nan 1.0\n",
            "880 nan 1.0\n",
            "890 nan 1.0\n",
            "900 nan 1.0\n",
            "910 nan 1.0\n",
            "920 nan 1.0\n",
            "930 nan 1.0\n",
            "940 nan 1.0\n",
            "950 nan 1.0\n",
            "960 nan 1.0\n",
            "970 nan 1.0\n",
            "980 nan 1.0\n",
            "990 nan 1.0\n",
            "train accuracy: 100.0 %\n",
            "test accuracy: 99.33333333333333 %\n"
          ]
        }
      ],
      "source": [
        "#train\n",
        "\n",
        "#INITIATE WEIGHTS AND BIASES (w,b)\n",
        "w=np.random.randn(Xtrain.shape[1],1)\n",
        "b=np.random.randn(1,1) #we make it (1,1) to make it a scalar and not just an integer. This is so we can add it to a vector later\n",
        "\n",
        "nEpoch=1000\n",
        "\n",
        "accuracy=np.zeros(nEpoch)\n",
        "trainRate=0.01\n",
        "\n",
        "for iTrain in range(nEpoch):\n",
        "  #evaluate\n",
        "  #CALCULATE a\n",
        "  a=sigmoid(np.matmul(Xtrain,w)+b)\n",
        "\n",
        "  #calculate loss & accuracy\n",
        "  #Look at loss, do we return the avg. loss for each value of ytrain and a?\n",
        "  loss=avrLoss(ytrain,a)\n",
        "  yhat=a>.5\n",
        "  accuracy[iTrain]=np.mean(yhat==ytrain)\n",
        "\n",
        "\n",
        "  #update weights\n",
        "  wgrad=np.matmul(Xtrain.T,a-ytrain)/len(ytrain)\n",
        "  bgrad=np.mean(a-ytrain)\n",
        "\n",
        "  assert(wgrad.shape == w.shape)\n",
        "\n",
        "  #UPDATE W AND b\n",
        "  w = w - trainRate*wgrad\n",
        "  b = b - trainRate*bgrad\n",
        "\n",
        "  if np.mod(iTrain,10)==0:\n",
        "    print(iTrain,loss,accuracy[iTrain])\n",
        "\n",
        "Y_prediction_test = sigmoid(np.matmul(Xtest,w)+b)>0.5\n",
        "Y_prediction_train = sigmoid(np.matmul(Xtrain,w)+b)>0.5\n",
        "\n",
        "print(\"train accuracy: {} %\".format(100 - np.mean(np.abs(Y_prediction_train - ytrain)) * 100))\n",
        "print(\"test accuracy: {} %\".format(100 - np.mean(np.abs(Y_prediction_test - ytest)) * 100))"
      ]
    },
    {
      "cell_type": "code",
      "execution_count": 42,
      "metadata": {
        "id": "8JmScwp3HJkr"
      },
      "outputs": [
        {
          "data": {
            "image/png": "[encoded data removed]",
            "text/plain": [
              "<Figure size 640x480 with 2 Axes>"
            ]
          },
          "metadata": {},
          "output_type": "display_data"
        }
      ],
      "source": [
        "#see what the network does:\n",
        "img = w.reshape(28,28)\n",
        "h=plt.imshow(img, cmap='Greys',  interpolation='nearest')\n",
        "plt.colorbar(h)\n",
        "plt.show()"
      ]
    },
    {
      "cell_type": "code",
      "execution_count": 43,
      "metadata": {
        "colab": {
          "base_uri": "https://localhost:8080/",
          "height": 245
        },
        "id": "FhIt3afDHN8X",
        "outputId": "d928ff88-1887-47a9-dc9f-4f71d499baa2"
      },
      "outputs": [
        {
          "name": "stdout",
          "output_type": "stream",
          "text": [
            "Train accuracy:  1.0\n",
            "Test accuracy:  1.0\n"
          ]
        },
        {
          "name": "stderr",
          "output_type": "stream",
          "text": [
            "c:\\Users\\Jens\\AppData\\Local\\Programs\\Python\\Python311\\Lib\\site-packages\\sklearn\\utils\\validation.py:1184: DataConversionWarning: A column-vector y was passed when a 1d array was expected. Please change the shape of y to (n_samples, ), for example using ravel().\n",
            "  y = column_or_1d(y, warn=True)\n"
          ]
        },
        {
          "data": {
            "image/png": "[encoded data removed]",
            "text/plain": [
              "<Figure size 640x480 with 1 Axes>"
            ]
          },
          "metadata": {},
          "output_type": "display_data"
        }
      ],
      "source": [
        "#commpare with scikit-learn:\n",
        "from sklearn.linear_model import LogisticRegression\n",
        "clf = LogisticRegression(random_state=0).fit(Xtrain, ytrain)\n",
        "\n",
        "clf.predict(X)\n",
        "print('Train accuracy: ',clf.score(Xtrain, ytrain))\n",
        "print('Test accuracy: ',clf.score(Xtest, ytest))\n",
        "\n",
        "img = (clf.coef_).reshape(28,28)\n",
        "plt.imshow(img, cmap='Greys',  interpolation='nearest')\n",
        "plt.show()"
      ]
    },
    {
      "cell_type": "code",
      "execution_count": null,
      "metadata": {},
      "outputs": [],
      "source": []
    }
  ],
  "metadata": {
    "colab": {
      "provenance": []
    },
    "kernelspec": {
      "display_name": "Python 3",
      "name": "python3"
    },
    "language_info": {
      "codemirror_mode": {
        "name": "ipython",
        "version": 3
      },
      "file_extension": ".py",
      "mimetype": "text/x-python",
      "name": "python",
      "nbconvert_exporter": "python",
      "pygments_lexer": "ipython3",
      "version": "3.11.5"
    }
  },
  "nbformat": 4,
  "nbformat_minor": 0
}
