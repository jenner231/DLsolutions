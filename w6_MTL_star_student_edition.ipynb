{
  "cells": [
    {
      "cell_type": "markdown",
      "metadata": {
        "id": "Nx1du__PqMWZ"
      },
      "source": [
        "The task in this notebook is to train a network which, given an image of a star, will calculate both the number of points on the star, as well as its width.\n",
        "\n",
        "Thus this will be a multi-task network, performing two completely different tasks simultaneously.\n"
      ]
    },
    {
      "cell_type": "code",
      "execution_count": 1,
      "metadata": {
        "id": "_ZOM0MBSTmVL"
      },
      "outputs": [],
      "source": [
        "#%% import stuff:\n",
        "\n",
        "import matplotlib.pyplot as plt\n",
        "import numpy as np\n",
        "import pickle\n",
        "\n",
        "import torch\n",
        "import torch.nn as nn"
      ]
    },
    {
      "cell_type": "markdown",
      "metadata": {
        "id": "xKjDsEy8FjHr"
      },
      "source": [
        "The cell below assumes you have already downloaded the dataset from brightspace, and put it in your google drive folder. It demonstrates how to use google drive together with a colab notebook."
      ]
    },
    {
      "cell_type": "code",
      "execution_count": 2,
      "metadata": {
        "colab": {
          "base_uri": "https://localhost:8080/"
        },
        "id": "w39eu-buTV55",
        "outputId": "a9a8a4d7-0844-47c6-92bb-05e36744d9c7"
      },
      "outputs": [
        {
          "name": "stdout",
          "output_type": "stream",
          "text": [
            "cuda:0\n"
          ]
        }
      ],
      "source": [
        "#from google.colab import drive\n",
        "#drive.mount('/content/drive')\n",
        "\n",
        "\n",
        "temp=pickle.load(open('C:/Users/Jens/Documents/GitHub/DLsolutions/data/starData.p','rb')) # Windows\n",
        "#temp=pickle.load(open('/home/jens/Documents/UNI/9. semester/Deep Learning/DLsolutions/data/starData.p','rb')) # Linux\n",
        "X=temp['X']\n",
        "y=temp['y']\n",
        "#reduce point labels from 3-9 to 0-6 for the net\n",
        "y[:,0] = y[:,0] - 3 \n",
        "device = torch.device(\"cuda:0\" if torch.cuda.is_available() else \"cpu\") #Stationær\n",
        "#device = \"cpu\" #laptop\n",
        "\n",
        "print(device)"
      ]
    },
    {
      "cell_type": "code",
      "execution_count": null,
      "metadata": {},
      "outputs": [],
      "source": []
    },
    {
      "cell_type": "code",
      "execution_count": 7,
      "metadata": {
        "colab": {
          "base_uri": "https://localhost:8080/",
          "height": 285
        },
        "id": "mu0NWnqR9C-p",
        "outputId": "e6808207-eb4f-4a6b-f32c-a4aabe6a21cf"
      },
      "outputs": [
        {
          "name": "stdout",
          "output_type": "stream",
          "text": [
            "torch.Size([1, 100, 100])\n",
            "tensor([2.0000, 0.8301])\n"
          ]
        },
        {
          "data": {
            "image/png": "[encoded data removed]",
            "text/plain": [
              "<Figure size 640x480 with 1 Axes>"
            ]
          },
          "metadata": {},
          "output_type": "display_data"
        }
      ],
      "source": [
        "#Let's plot an example\n",
        "\n",
        "idx=150\n",
        "plt.imshow(np.squeeze(X[125,:,:,:],axis=0))\n",
        "img = X[idx,:,:,:]\n",
        "# Data normalization for star size:\n",
        "from sklearn.preprocessing import MinMaxScaler\n",
        "scaler = MinMaxScaler()\n",
        "y[:,1:2] = torch.tensor(scaler.fit_transform(y[:,1:2].numpy()))\n",
        "print(img.shape)\n",
        "print(y[idx,:]) #first column is number of points, second is size of the star"
      ]
    },
    {
      "cell_type": "code",
      "execution_count": 17,
      "metadata": {
        "id": "14iffVhhTkWY"
      },
      "outputs": [
        {
          "name": "stdout",
          "output_type": "stream",
          "text": [
            "7\n"
          ]
        }
      ],
      "source": [
        "from torch.utils.data import TensorDataset, DataLoader\n",
        "from sklearn.model_selection import train_test_split\n",
        "num_classes = torch.unique(y[:,0]).shape[0]\n",
        "print(num_classes)\n",
        "\n",
        "batch_size = 64\n",
        "#%% make datasets & loaders\n",
        "dataset = TensorDataset(X, y)\n",
        "dataloader = DataLoader(dataset, batch_size=batch_size, shuffle=True)\n",
        "indices = list(range(len(dataset)))\n",
        "#split in val and train\n",
        "x_train, x_temp, y_train, y_temp = train_test_split(X, y, test_size = 0.3, random_state = 42)\n",
        "x_val, x_test, y_val, y_test = train_test_split(x_temp, y_temp, test_size = 0.5, random_state = 42)\n",
        "\n",
        "#make datasets (TensorDataset will do)\n",
        "#Create subsets of the data using the split indices\n",
        "train_data = TensorDataset(x_train, y_train)\n",
        "valid_data = TensorDataset(x_val, y_val)\n",
        "test_data = TensorDataset(x_test, y_test)\n",
        "\n",
        "\n",
        "#make dataloaders\n",
        "train_dl = DataLoader(train_data, batch_size=batch_size, shuffle=True, num_workers=2)\n",
        "valid_dl = DataLoader(valid_data, batch_size=batch_size, shuffle=True, num_workers=2)\n",
        "test_dl = DataLoader(test_data, batch_size=batch_size, shuffle=True, num_workers=2)"
      ]
    },
    {
      "cell_type": "code",
      "execution_count": 26,
      "metadata": {
        "id": "6HtnbXn0NXyj"
      },
      "outputs": [
        {
          "data": {
            "text/plain": [
              "(tensor([[ 0.0844,  0.0435,  0.0536, -0.0532,  0.0548, -0.0420,  0.0486]],\n",
              "        device='cuda:0', grad_fn=<AddmmBackward0>),\n",
              " tensor([[-0.0351]], device='cuda:0', grad_fn=<AddmmBackward0>))"
            ]
          },
          "execution_count": 26,
          "metadata": {},
          "output_type": "execute_result"
        }
      ],
      "source": [
        "#%% make network\n",
        "class MTLNet(nn.Module):\n",
        " def __init__(self):\n",
        "     super(MTLNet, self).__init__()\n",
        "     self.conv1 = nn.Conv2d(in_channels=1, out_channels=32, kernel_size=3, padding='same')\n",
        "     self.conv2 = nn.Conv2d(32, 64, kernel_size=3, padding='same')\n",
        "     self.conv3 = nn.Conv2d(64, 128, kernel_size=3, padding='same')\n",
        "     self.pool1 = nn.AvgPool2d(kernel_size=2, stride=2)\n",
        "     \n",
        "     self.flatten = nn.Flatten()\n",
        "     self.fc1 = nn.Linear(128*25*25, 512)\n",
        "     self.fc2 = nn.Linear(512, 128)\n",
        "     self.relU = nn.ReLU()\n",
        "\n",
        "     self.fc_points = nn.Linear(128, num_classes)\n",
        "     self.fc_width = nn.Linear(128, 1)\n",
        "\n",
        "     \n",
        "     \n",
        " def forward(self,x):\n",
        "     x = self.conv1(x)\n",
        "     x = self.relU(x)\n",
        "     x = self.pool1(x)\n",
        "     x = self.conv2(x)\n",
        "     x = self.relU(x)\n",
        "     x = self.pool1(x)\n",
        "     x = self.conv3(x)\n",
        "     x = self.relU(x)\n",
        "\n",
        "     x = self.flatten(x)\n",
        "     \n",
        "     x = self.fc1(x)\n",
        "     x = self.relU(x)\n",
        "     x = self.fc2(x)\n",
        "\n",
        "     points_out = self.fc_points(x)\n",
        "     width_out = self.fc_width(x)\n",
        "     \n",
        "     return points_out, width_out\n",
        "#something simple like cnn-cnn-fc-relu-fc will do\n",
        "\n",
        "\n",
        "\n",
        "#testing:\n",
        "testData=torch.rand((1,1,100,100)).to(device)\n",
        "testNet=MTLNet()\n",
        "testNet.to(device)\n",
        "testNet.forward(testData)"
      ]
    },
    {
      "cell_type": "code",
      "execution_count": 27,
      "metadata": {
        "id": "kCUFfJsFN7op"
      },
      "outputs": [],
      "source": [
        "#%% define loss'es\n",
        "loss_classi=nn.CrossEntropyLoss()\n",
        "loss_regress=nn.MSELoss()\n",
        "#some combination of losses\n",
        "alpha = 0.5\n",
        "loss_fn = lambda x,z,y: (alpha * loss_classi(x,(y[:,0]).long()) + ((1-alpha) * loss_regress(z,y[:,1])))"
      ]
    },
    {
      "cell_type": "code",
      "execution_count": 28,
      "metadata": {
        "id": "gOCTOuj3FR0X"
      },
      "outputs": [
        {
          "name": "stderr",
          "output_type": "stream",
          "text": [
            "c:\\Users\\Jens\\AppData\\Local\\Programs\\Python\\Python311\\Lib\\site-packages\\torch\\nn\\modules\\loss.py:536: UserWarning: Using a target size (torch.Size([64])) that is different to the input size (torch.Size([64, 1])). This will likely lead to incorrect results due to broadcasting. Please ensure they have the same size.\n",
            "  return F.mse_loss(input, target, reduction=self.reduction)\n",
            "c:\\Users\\Jens\\AppData\\Local\\Programs\\Python\\Python311\\Lib\\site-packages\\torch\\nn\\modules\\loss.py:536: UserWarning: Using a target size (torch.Size([56])) that is different to the input size (torch.Size([56, 1])). This will likely lead to incorrect results due to broadcasting. Please ensure they have the same size.\n",
            "  return F.mse_loss(input, target, reduction=self.reduction)\n",
            "c:\\Users\\Jens\\AppData\\Local\\Programs\\Python\\Python311\\Lib\\site-packages\\torch\\nn\\modules\\loss.py:536: UserWarning: Using a target size (torch.Size([44])) that is different to the input size (torch.Size([44, 1])). This will likely lead to incorrect results due to broadcasting. Please ensure they have the same size.\n",
            "  return F.mse_loss(input, target, reduction=self.reduction)\n"
          ]
        },
        {
          "name": "stdout",
          "output_type": "stream",
          "text": [
            "Epoch [1/20] Train Loss: 49190.6328, Validation Loss: 1.0704\n",
            "Epoch [2/20] Train Loss: 1.0225, Validation Loss: 1.0047\n",
            "Epoch [3/20] Train Loss: 0.9946, Validation Loss: 0.9818\n",
            "Epoch [4/20] Train Loss: 0.9517, Validation Loss: 0.9131\n",
            "Epoch [5/20] Train Loss: 0.8089, Validation Loss: 0.6791\n",
            "Epoch [6/20] Train Loss: 0.5953, Validation Loss: 0.5770\n",
            "Epoch [7/20] Train Loss: 0.4546, Validation Loss: 0.3728\n",
            "Epoch [8/20] Train Loss: 0.2923, Validation Loss: 0.3613\n",
            "Epoch [9/20] Train Loss: 0.2413, Validation Loss: 0.2102\n",
            "Epoch [10/20] Train Loss: 0.2266, Validation Loss: 0.2569\n",
            "Epoch [11/20] Train Loss: 0.1973, Validation Loss: 0.1518\n",
            "Epoch [12/20] Train Loss: 0.1415, Validation Loss: 0.1135\n",
            "Epoch [13/20] Train Loss: 0.1106, Validation Loss: 0.2364\n",
            "Epoch [14/20] Train Loss: 0.1329, Validation Loss: 0.1575\n",
            "Epoch [15/20] Train Loss: 0.1173, Validation Loss: 0.0907\n",
            "Epoch [16/20] Train Loss: 0.0810, Validation Loss: 0.0774\n",
            "Epoch [17/20] Train Loss: 0.0666, Validation Loss: 0.0708\n",
            "Epoch [18/20] Train Loss: 0.0637, Validation Loss: 0.0706\n",
            "Epoch [19/20] Train Loss: 0.0657, Validation Loss: 0.0648\n",
            "Epoch [20/20] Train Loss: 0.0690, Validation Loss: 0.0712\n"
          ]
        }
      ],
      "source": [
        "#%% train & validate\n",
        "\n",
        "nEpoch=20\n",
        "net=MTLNet()\n",
        "net.to(device)\n",
        "optimizer=torch.optim.Adam(net.parameters(), lr=0.001)\n",
        "\n",
        "running_loss = []\n",
        "validation_loss = []\n",
        "\n",
        "for iEpoch in range(nEpoch):\n",
        "    net.train()\n",
        "    totLoss=0\n",
        "    num_batches=0\n",
        "    for xbatch,ybatch in train_dl:\n",
        "        optimizer.zero_grad()\n",
        "        xbatch=xbatch.to(device)\n",
        "        ybatch=ybatch.to(device)\n",
        "        \n",
        "        points_out, width_out = net(xbatch)\n",
        "        #print('Points out: ', points_out, '\\nWidht out: ', width_out)\n",
        "        \n",
        "        loss = loss_fn(points_out, width_out, ybatch).to(device)\n",
        "        loss.backward()\n",
        "        \n",
        "        optimizer.step()\n",
        "        \n",
        "        \n",
        "        totLoss += loss\n",
        "        num_batches += 1\n",
        "        \n",
        "    avg_loss = totLoss / num_batches\n",
        "    running_loss.append(avg_loss)\n",
        "        #the usual. pass the output of your network to the custom loss function you made above\n",
        "        #use it to update the weights\n",
        "\n",
        "\n",
        "    net.eval()  # Set model to evaluation mode\n",
        "    totValLoss = 0\n",
        "    num_val_batches = 0\n",
        "\n",
        "    with torch.no_grad():  # Disable gradient computation during validation\n",
        "        for xbatch, ybatch in valid_dl:\n",
        "            xbatch = xbatch.to(device)\n",
        "            ybatch = ybatch.to(device)\n",
        "            \n",
        "            points_out, width_out = net(xbatch)\n",
        "            loss = loss_fn(points_out, width_out, ybatch).to(device)\n",
        "            \n",
        "            totValLoss += loss\n",
        "            num_val_batches += 1\n",
        "\n",
        "    avg_val_loss = totValLoss / num_val_batches\n",
        "    validation_loss.append(avg_val_loss)\n",
        "    print(f\"Epoch [{iEpoch+1}/{nEpoch}] Train Loss: {avg_loss:.4f}, Validation Loss: {avg_val_loss:.4f}\")"
      ]
    },
    {
      "cell_type": "code",
      "execution_count": 30,
      "metadata": {
        "id": "u5l1QdAgPB6z"
      },
      "outputs": [
        {
          "name": "stdout",
          "output_type": "stream",
          "text": [
            "Accuracy on test data: 99.00%\n",
            "Deviation on test regression data: 0.11\n"
          ]
        }
      ],
      "source": [
        "#evaluate\n",
        "net.eval()\n",
        "\n",
        "#Correct predictions\n",
        "correct = 0\n",
        "total = 0\n",
        "rmse_val = 0\n",
        "# We dont need to compute gradients for our test, so we can use torch.no_grad()\n",
        "with torch.no_grad():\n",
        "    for inputs, labels in test_dl:\n",
        "        labels = labels.to(device)\n",
        "        points, width = net(inputs.to(device))\n",
        "        predicted = torch.max(points, 1)[1]\n",
        "        true = labels[:,0].long()\n",
        "        total += labels.size(0)\n",
        "        correct += (predicted == true).sum().item()\n",
        "        rmse_val = loss_regress(width, labels[:,1].to(device))\n",
        "\n",
        "accuracy = 100 * correct / total\n",
        "print(f'Accuracy on test data: {accuracy:.2f}%')\n",
        "print(f'Deviation on test regression data: {rmse_val:.2f}')\n",
        "#try plotting predictions vs. targets for both training data and validation data in a scatterplot, and see how much variation you've captured\n"
      ]
    },
    {
      "cell_type": "code",
      "execution_count": null,
      "metadata": {},
      "outputs": [],
      "source": []
    }
  ],
  "metadata": {
    "accelerator": "GPU",
    "colab": {
      "provenance": []
    },
    "kernelspec": {
      "display_name": "Python 3",
      "name": "python3"
    },
    "language_info": {
      "codemirror_mode": {
        "name": "ipython",
        "version": 3
      },
      "file_extension": ".py",
      "mimetype": "text/x-python",
      "name": "python",
      "nbconvert_exporter": "python",
      "pygments_lexer": "ipython3",
      "version": "3.11.5"
    }
  },
  "nbformat": 4,
  "nbformat_minor": 0
}
