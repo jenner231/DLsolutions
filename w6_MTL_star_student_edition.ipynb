{
  "nbformat": 4,
  "nbformat_minor": 0,
  "metadata": {
    "colab": {
      "provenance": []
    },
    "kernelspec": {
      "name": "python3",
      "display_name": "Python 3"
    },
    "language_info": {
      "name": "python"
    },
    "accelerator": "GPU"
  },
  "cells": [
    {
      "cell_type": "markdown",
      "source": [
        "The task in this notebook is to train a network which, given an image of a star, will calculate both the number of points on the star, as well as its width.\n",
        "\n",
        "Thus this will be a multi-task network, performing two completely different tasks simultaneously.\n"
      ],
      "metadata": {
        "id": "Nx1du__PqMWZ"
      }
    },
    {
      "cell_type": "code",
      "metadata": {
        "id": "_ZOM0MBSTmVL"
      },
      "source": [
        "#%% import stuff:\n",
        "\n",
        "import matplotlib.pyplot as plt\n",
        "import numpy as np\n",
        "import pickle\n",
        "\n",
        "import torch\n",
        "import torch.nn as nn"
      ],
      "execution_count": null,
      "outputs": []
    },
    {
      "cell_type": "markdown",
      "metadata": {
        "id": "xKjDsEy8FjHr"
      },
      "source": [
        "The cell below assumes you have already downloaded the dataset from brightspace, and put it in your google drive folder. It demonstrates how to use google drive together with a colab notebook."
      ]
    },
    {
      "cell_type": "code",
      "metadata": {
        "colab": {
          "base_uri": "https://localhost:8080/"
        },
        "id": "w39eu-buTV55",
        "outputId": "a9a8a4d7-0844-47c6-92bb-05e36744d9c7"
      },
      "source": [
        "from google.colab import drive\n",
        "drive.mount('/content/drive')\n",
        "\n",
        "\n",
        "temp=pickle.load(open('/content/drive/MyDrive/starData.p','rb'))\n",
        "X=temp['X']\n",
        "y=temp['y']\n"
      ],
      "execution_count": null,
      "outputs": [
        {
          "output_type": "stream",
          "name": "stdout",
          "text": [
            "Mounted at /content/drive\n"
          ]
        }
      ]
    },
    {
      "cell_type": "code",
      "metadata": {
        "colab": {
          "base_uri": "https://localhost:8080/",
          "height": 285
        },
        "id": "mu0NWnqR9C-p",
        "outputId": "e6808207-eb4f-4a6b-f32c-a4aabe6a21cf"
      },
      "source": [
        "#Let's plot an example\n",
        "idx=125\n",
        "plt.imshow(np.squeeze(X[125,:,:,:],axis=0))\n",
        "print(y[idx,:]) #first column is number of points, second is size of the star"
      ],
      "execution_count": null,
      "outputs": [
        {
          "output_type": "stream",
          "name": "stdout",
          "text": [
            "tensor([6.0000, 2.5596])\n"
          ]
        },
        {
          "output_type": "display_data",
          "data": {
            "image/png": "[encoded data removed]",
            "text/plain": [
              "<Figure size 432x288 with 1 Axes>"
            ]
          },
          "metadata": {
            "needs_background": "light"
          }
        }
      ]
    },
    {
      "cell_type": "code",
      "metadata": {
        "id": "14iffVhhTkWY"
      },
      "source": [
        "#%% make datasets & loaders\n",
        "\n",
        "#split in val and train\n",
        "\n",
        "#make datasets (TensorDataset will do)\n",
        "\n",
        "#make dataloaders\n"
      ],
      "execution_count": null,
      "outputs": []
    },
    {
      "cell_type": "code",
      "metadata": {
        "id": "6HtnbXn0NXyj"
      },
      "source": [
        "#%% make network\n",
        "\n",
        "#something simple like cnn-cnn-fc-relu-fc will do\n",
        "\n",
        "\n",
        "\n",
        "#testing:\n",
        "testData=torch.rand((1,1,100,100))\n",
        "testNet=someNetwork()\n",
        "testNet.forward(testData)"
      ],
      "execution_count": null,
      "outputs": []
    },
    {
      "cell_type": "code",
      "metadata": {
        "id": "kCUFfJsFN7op"
      },
      "source": [
        "#%% define loss'es\n",
        "loss1=?\n",
        "loss2=?\n",
        "loss_fn = #some combination of loss1 and loss2"
      ],
      "execution_count": null,
      "outputs": []
    },
    {
      "cell_type": "code",
      "metadata": {
        "id": "gOCTOuj3FR0X"
      },
      "source": [
        "#%% train & validate\n",
        "\n",
        "nEpoch=?\n",
        "\n",
        "net=someNetwork()\n",
        "optimizer=?\n",
        "\n",
        "\n",
        "for iEpoch in range(nEpoch):\n",
        "\n",
        "    totLoss=0\n",
        "    for xbatch,ybatch in trainLoader:\n",
        "\n",
        "        the usual. pass the output of your network to the custom loss function you made above\n",
        "        use it to update the weights\n",
        "\n",
        "\n",
        "    for xbatch,ybatch in valLoader:\n",
        "        remember to watch the loss on the validation data\n",
        "\n",
        "\n"
      ],
      "execution_count": null,
      "outputs": []
    },
    {
      "cell_type": "code",
      "metadata": {
        "id": "u5l1QdAgPB6z"
      },
      "source": [
        "#evaluate\n",
        "\n",
        "try plotting predictions vs. targets for both training data and validation data in a scatterplot, and see how much variation you've captured"
      ],
      "execution_count": null,
      "outputs": []
    }
  ]
}