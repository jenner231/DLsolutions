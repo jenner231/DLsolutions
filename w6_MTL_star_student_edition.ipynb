{
  "cells": [
    {
      "cell_type": "markdown",
      "metadata": {
        "id": "Nx1du__PqMWZ"
      },
      "source": [
        "The task in this notebook is to train a network which, given an image of a star, will calculate both the number of points on the star, as well as its width.\n",
        "\n",
        "Thus this will be a multi-task network, performing two completely different tasks simultaneously.\n"
      ]
    },
    {
      "cell_type": "code",
      "execution_count": 1,
      "metadata": {
        "id": "_ZOM0MBSTmVL"
      },
      "outputs": [],
      "source": [
        "#%% import stuff:\n",
        "\n",
        "import matplotlib.pyplot as plt\n",
        "import numpy as np\n",
        "import pickle\n",
        "\n",
        "import torch\n",
        "import torch.nn as nn"
      ]
    },
    {
      "cell_type": "markdown",
      "metadata": {
        "id": "xKjDsEy8FjHr"
      },
      "source": [
        "The cell below assumes you have already downloaded the dataset from brightspace, and put it in your google drive folder. It demonstrates how to use google drive together with a colab notebook."
      ]
    },
    {
      "cell_type": "code",
      "execution_count": 2,
      "metadata": {
        "colab": {
          "base_uri": "https://localhost:8080/"
        },
        "id": "w39eu-buTV55",
        "outputId": "a9a8a4d7-0844-47c6-92bb-05e36744d9c7"
      },
      "outputs": [
        {
          "name": "stdout",
          "output_type": "stream",
          "text": [
            "cpu\n"
          ]
        }
      ],
      "source": [
        "#from google.colab import drive\n",
        "#drive.mount('/content/drive')\n",
        "\n",
        "\n",
        "#temp=pickle.load(open('C:/Users/Jens/Documents/GitHub/DLsolutions/data/starData.p','rb')) # Windows\n",
        "temp=pickle.load(open('/home/jens/Documents/UNI/9. semester/Deep Learning/DLsolutions/data/starData.p','rb')) # Linux\n",
        "X=temp['X']\n",
        "y=temp['y']\n",
        "#reduce point labels from 3-9 to 0-6 for the net\n",
        "y[:,0] = y[:,0] - 3 \n",
        "#device = torch.device(\"cuda:0\" if torch.cuda.is_available() else \"cpu\") #Stationær\n",
        "device = \"cpu\" #laptop\n",
        "\n",
        "print(device)"
      ]
    },
    {
      "cell_type": "code",
      "execution_count": null,
      "metadata": {},
      "outputs": [],
      "source": []
    },
    {
      "cell_type": "code",
      "execution_count": 3,
      "metadata": {
        "colab": {
          "base_uri": "https://localhost:8080/",
          "height": 285
        },
        "id": "mu0NWnqR9C-p",
        "outputId": "e6808207-eb4f-4a6b-f32c-a4aabe6a21cf"
      },
      "outputs": [
        {
          "name": "stdout",
          "output_type": "stream",
          "text": [
            "torch.Size([1, 100, 100])\n",
            "tensor([0.0000, 5.4232])\n"
          ]
        },
        {
          "data": {
            "image/png": "[encoded data removed]",
            "text/plain": [
              "<Figure size 640x480 with 1 Axes>"
            ]
          },
          "metadata": {},
          "output_type": "display_data"
        }
      ],
      "source": [
        "#Let's plot an example\n",
        "\n",
        "idx=1250\n",
        "plt.imshow(np.squeeze(X[125,:,:,:],axis=0))\n",
        "img = X[idx,:,:,:]\n",
        "\n",
        "print(img.shape)\n",
        "print(y[idx,:]) #first column is number of points, second is size of the star"
      ]
    },
    {
      "cell_type": "code",
      "execution_count": 4,
      "metadata": {
        "id": "14iffVhhTkWY"
      },
      "outputs": [
        {
          "name": "stdout",
          "output_type": "stream",
          "text": [
            "7\n"
          ]
        }
      ],
      "source": [
        "from torch.utils.data import TensorDataset, DataLoader\n",
        "from sklearn.model_selection import train_test_split\n",
        "num_classes = torch.unique(y[:,0]).shape[0]\n",
        "print(num_classes)\n",
        "\n",
        "batch_size = 4\n",
        "#%% make datasets & loaders\n",
        "dataset = TensorDataset(X, y)\n",
        "dataloader = DataLoader(dataset, batch_size=batch_size, shuffle=True)\n",
        "indices = list(range(len(dataset)))\n",
        "#split in val and train\n",
        "x_train, x_temp, y_train, y_temp = train_test_split(X, y, test_size = 0.3, random_state = 42)\n",
        "x_val, x_test, y_val, y_test = train_test_split(x_temp, y_temp, test_size = 0.5, random_state = 42)\n",
        "\n",
        "#make datasets (TensorDataset will do)\n",
        "#Create subsets of the data using the split indices\n",
        "train_data = TensorDataset(x_train, y_train)\n",
        "valid_data = TensorDataset(x_val, y_val)\n",
        "test_data = TensorDataset(x_test, y_test)\n",
        "\n",
        "\n",
        "#make dataloaders\n",
        "train_dl = DataLoader(train_data, batch_size=batch_size, shuffle=True, num_workers=2)\n",
        "valid_dl = DataLoader(valid_data, batch_size=batch_size, shuffle=True, num_workers=2)\n",
        "test_dl = DataLoader(test_data, batch_size=batch_size, shuffle=True, num_workers=2)"
      ]
    },
    {
      "cell_type": "code",
      "execution_count": 5,
      "metadata": {
        "id": "6HtnbXn0NXyj"
      },
      "outputs": [
        {
          "data": {
            "text/plain": [
              "(tensor([[ 0.0105,  0.0126,  0.0142, -0.0634,  0.0815, -0.0111,  0.0489]],\n",
              "        grad_fn=<AddmmBackward0>),\n",
              " tensor([[0.0399]], grad_fn=<AddmmBackward0>))"
            ]
          },
          "execution_count": 5,
          "metadata": {},
          "output_type": "execute_result"
        }
      ],
      "source": [
        "#%% make network\n",
        "class MTLNet(nn.Module):\n",
        " def __init__(self):\n",
        "     super(MTLNet, self).__init__()\n",
        "     self.conv1 = nn.Conv2d(in_channels=1, out_channels=32, kernel_size=3, padding='same')\n",
        "     self.conv2 = nn.Conv2d(32, 64, kernel_size=3, padding='same')\n",
        "     \n",
        "     self.flatten = nn.Flatten()\n",
        "     self.fc1 = nn.Linear(64*100*100, 512)\n",
        "     self.fc2 = nn.Linear(512, 128)\n",
        "     self.relU = nn.ReLU()\n",
        "\n",
        "     self.fc_points = nn.Linear(128, num_classes)\n",
        "     self.fc_width = nn.Linear(128, 1)\n",
        "\n",
        "     \n",
        "     \n",
        " def forward(self,x):\n",
        "     x = self.conv1(x)\n",
        "     x = self.relU(x)\n",
        "     x = self.conv2(x)\n",
        "     x = self.relU(x)\n",
        "\n",
        "     x = self.flatten(x)\n",
        "     \n",
        "     x = self.fc1(x)\n",
        "     x = self.relU(x)\n",
        "     x = self.fc2(x)\n",
        "\n",
        "     points_out = self.fc_points(x)\n",
        "     width_out = self.fc_width(x)\n",
        "     \n",
        "     return points_out, width_out\n",
        "#something simple like cnn-cnn-fc-relu-fc will do\n",
        "\n",
        "\n",
        "\n",
        "#testing:\n",
        "testData=torch.rand((1,1,100,100)).to(device)\n",
        "testNet=MTLNet()\n",
        "testNet.to(device)\n",
        "testNet.forward(testData)"
      ]
    },
    {
      "cell_type": "code",
      "execution_count": 6,
      "metadata": {
        "id": "kCUFfJsFN7op"
      },
      "outputs": [],
      "source": [
        "#%% define loss'es\n",
        "loss_classi=nn.CrossEntropyLoss()\n",
        "loss_regress=nn.MSELoss()\n",
        "#some combination of losses\n",
        "loss_fn = lambda x,z,y: (loss_classi(x,(y[:,0]).long()) + loss_regress(z,y[:,1]))"
      ]
    },
    {
      "cell_type": "code",
      "execution_count": 9,
      "metadata": {
        "id": "gOCTOuj3FR0X"
      },
      "outputs": [
        {
          "name": "stderr",
          "output_type": "stream",
          "text": [
            "/home/jens/.local/lib/python3.10/site-packages/torch/nn/modules/loss.py:536: UserWarning: Using a target size (torch.Size([4])) that is different to the input size (torch.Size([4, 1])). This will likely lead to incorrect results due to broadcasting. Please ensure they have the same size.\n",
            "  return F.mse_loss(input, target, reduction=self.reduction)\n"
          ]
        },
        {
          "name": "stdout",
          "output_type": "stream",
          "text": [
            "Epoch [1/20] Train Loss: nan, Validation Loss: nan\n"
          ]
        },
        {
          "ename": "KeyboardInterrupt",
          "evalue": "",
          "output_type": "error",
          "traceback": [
            "\u001b[0;31m---------------------------------------------------------------------------\u001b[0m",
            "\u001b[0;31mKeyboardInterrupt\u001b[0m                         Traceback (most recent call last)",
            "\u001b[1;32m/home/jens/Documents/UNI/9. semester/Deep Learning/DLsolutions/w6_MTL_star_student_edition.ipynb Cell 10\u001b[0m line \u001b[0;36m2\n\u001b[1;32m     <a href='vscode-notebook-cell:/home/jens/Documents/UNI/9.%20semester/Deep%20Learning/DLsolutions/w6_MTL_star_student_edition.ipynb#X11sZmlsZQ%3D%3D?line=19'>20</a>\u001b[0m loss \u001b[39m=\u001b[39m loss_fn(points_out, width_out, ybatch)\u001b[39m.\u001b[39mto(device)\n\u001b[1;32m     <a href='vscode-notebook-cell:/home/jens/Documents/UNI/9.%20semester/Deep%20Learning/DLsolutions/w6_MTL_star_student_edition.ipynb#X11sZmlsZQ%3D%3D?line=20'>21</a>\u001b[0m loss\u001b[39m.\u001b[39mbackward()\n\u001b[0;32m---> <a href='vscode-notebook-cell:/home/jens/Documents/UNI/9.%20semester/Deep%20Learning/DLsolutions/w6_MTL_star_student_edition.ipynb#X11sZmlsZQ%3D%3D?line=22'>23</a>\u001b[0m optimizer\u001b[39m.\u001b[39;49mstep()\n\u001b[1;32m     <a href='vscode-notebook-cell:/home/jens/Documents/UNI/9.%20semester/Deep%20Learning/DLsolutions/w6_MTL_star_student_edition.ipynb#X11sZmlsZQ%3D%3D?line=23'>24</a>\u001b[0m optimizer\u001b[39m.\u001b[39mzero_grad()\n\u001b[1;32m     <a href='vscode-notebook-cell:/home/jens/Documents/UNI/9.%20semester/Deep%20Learning/DLsolutions/w6_MTL_star_student_edition.ipynb#X11sZmlsZQ%3D%3D?line=25'>26</a>\u001b[0m totLoss \u001b[39m+\u001b[39m\u001b[39m=\u001b[39m loss\u001b[39m.\u001b[39mitem()\n",
            "File \u001b[0;32m~/.local/lib/python3.10/site-packages/torch/optim/optimizer.py:280\u001b[0m, in \u001b[0;36mOptimizer.profile_hook_step.<locals>.wrapper\u001b[0;34m(*args, **kwargs)\u001b[0m\n\u001b[1;32m    276\u001b[0m         \u001b[39melse\u001b[39;00m:\n\u001b[1;32m    277\u001b[0m             \u001b[39mraise\u001b[39;00m \u001b[39mRuntimeError\u001b[39;00m(\u001b[39mf\u001b[39m\u001b[39m\"\u001b[39m\u001b[39m{\u001b[39;00mfunc\u001b[39m}\u001b[39;00m\u001b[39m must return None or a tuple of (new_args, new_kwargs),\u001b[39m\u001b[39m\"\u001b[39m\n\u001b[1;32m    278\u001b[0m                                \u001b[39mf\u001b[39m\u001b[39m\"\u001b[39m\u001b[39mbut got \u001b[39m\u001b[39m{\u001b[39;00mresult\u001b[39m}\u001b[39;00m\u001b[39m.\u001b[39m\u001b[39m\"\u001b[39m)\n\u001b[0;32m--> 280\u001b[0m out \u001b[39m=\u001b[39m func(\u001b[39m*\u001b[39;49margs, \u001b[39m*\u001b[39;49m\u001b[39m*\u001b[39;49mkwargs)\n\u001b[1;32m    281\u001b[0m \u001b[39mself\u001b[39m\u001b[39m.\u001b[39m_optimizer_step_code()\n\u001b[1;32m    283\u001b[0m \u001b[39m# call optimizer step post hooks\u001b[39;00m\n",
            "File \u001b[0;32m~/.local/lib/python3.10/site-packages/torch/optim/optimizer.py:33\u001b[0m, in \u001b[0;36m_use_grad_for_differentiable.<locals>._use_grad\u001b[0;34m(self, *args, **kwargs)\u001b[0m\n\u001b[1;32m     31\u001b[0m \u001b[39mtry\u001b[39;00m:\n\u001b[1;32m     32\u001b[0m     torch\u001b[39m.\u001b[39mset_grad_enabled(\u001b[39mself\u001b[39m\u001b[39m.\u001b[39mdefaults[\u001b[39m'\u001b[39m\u001b[39mdifferentiable\u001b[39m\u001b[39m'\u001b[39m])\n\u001b[0;32m---> 33\u001b[0m     ret \u001b[39m=\u001b[39m func(\u001b[39mself\u001b[39;49m, \u001b[39m*\u001b[39;49margs, \u001b[39m*\u001b[39;49m\u001b[39m*\u001b[39;49mkwargs)\n\u001b[1;32m     34\u001b[0m \u001b[39mfinally\u001b[39;00m:\n\u001b[1;32m     35\u001b[0m     torch\u001b[39m.\u001b[39mset_grad_enabled(prev_grad)\n",
            "File \u001b[0;32m~/.local/lib/python3.10/site-packages/torch/optim/sgd.py:76\u001b[0m, in \u001b[0;36mSGD.step\u001b[0;34m(self, closure)\u001b[0m\n\u001b[1;32m     72\u001b[0m momentum_buffer_list \u001b[39m=\u001b[39m []\n\u001b[1;32m     74\u001b[0m has_sparse_grad \u001b[39m=\u001b[39m \u001b[39mself\u001b[39m\u001b[39m.\u001b[39m_init_group(group, params_with_grad, d_p_list, momentum_buffer_list)\n\u001b[0;32m---> 76\u001b[0m sgd(params_with_grad,\n\u001b[1;32m     77\u001b[0m     d_p_list,\n\u001b[1;32m     78\u001b[0m     momentum_buffer_list,\n\u001b[1;32m     79\u001b[0m     weight_decay\u001b[39m=\u001b[39;49mgroup[\u001b[39m'\u001b[39;49m\u001b[39mweight_decay\u001b[39;49m\u001b[39m'\u001b[39;49m],\n\u001b[1;32m     80\u001b[0m     momentum\u001b[39m=\u001b[39;49mgroup[\u001b[39m'\u001b[39;49m\u001b[39mmomentum\u001b[39;49m\u001b[39m'\u001b[39;49m],\n\u001b[1;32m     81\u001b[0m     lr\u001b[39m=\u001b[39;49mgroup[\u001b[39m'\u001b[39;49m\u001b[39mlr\u001b[39;49m\u001b[39m'\u001b[39;49m],\n\u001b[1;32m     82\u001b[0m     dampening\u001b[39m=\u001b[39;49mgroup[\u001b[39m'\u001b[39;49m\u001b[39mdampening\u001b[39;49m\u001b[39m'\u001b[39;49m],\n\u001b[1;32m     83\u001b[0m     nesterov\u001b[39m=\u001b[39;49mgroup[\u001b[39m'\u001b[39;49m\u001b[39mnesterov\u001b[39;49m\u001b[39m'\u001b[39;49m],\n\u001b[1;32m     84\u001b[0m     maximize\u001b[39m=\u001b[39;49mgroup[\u001b[39m'\u001b[39;49m\u001b[39mmaximize\u001b[39;49m\u001b[39m'\u001b[39;49m],\n\u001b[1;32m     85\u001b[0m     has_sparse_grad\u001b[39m=\u001b[39;49mhas_sparse_grad,\n\u001b[1;32m     86\u001b[0m     foreach\u001b[39m=\u001b[39;49mgroup[\u001b[39m'\u001b[39;49m\u001b[39mforeach\u001b[39;49m\u001b[39m'\u001b[39;49m])\n\u001b[1;32m     88\u001b[0m \u001b[39m# update momentum_buffers in state\u001b[39;00m\n\u001b[1;32m     89\u001b[0m \u001b[39mfor\u001b[39;00m p, momentum_buffer \u001b[39min\u001b[39;00m \u001b[39mzip\u001b[39m(params_with_grad, momentum_buffer_list):\n",
            "File \u001b[0;32m~/.local/lib/python3.10/site-packages/torch/optim/sgd.py:222\u001b[0m, in \u001b[0;36msgd\u001b[0;34m(params, d_p_list, momentum_buffer_list, has_sparse_grad, foreach, weight_decay, momentum, lr, dampening, nesterov, maximize)\u001b[0m\n\u001b[1;32m    219\u001b[0m \u001b[39melse\u001b[39;00m:\n\u001b[1;32m    220\u001b[0m     func \u001b[39m=\u001b[39m _single_tensor_sgd\n\u001b[0;32m--> 222\u001b[0m func(params,\n\u001b[1;32m    223\u001b[0m      d_p_list,\n\u001b[1;32m    224\u001b[0m      momentum_buffer_list,\n\u001b[1;32m    225\u001b[0m      weight_decay\u001b[39m=\u001b[39;49mweight_decay,\n\u001b[1;32m    226\u001b[0m      momentum\u001b[39m=\u001b[39;49mmomentum,\n\u001b[1;32m    227\u001b[0m      lr\u001b[39m=\u001b[39;49mlr,\n\u001b[1;32m    228\u001b[0m      dampening\u001b[39m=\u001b[39;49mdampening,\n\u001b[1;32m    229\u001b[0m      nesterov\u001b[39m=\u001b[39;49mnesterov,\n\u001b[1;32m    230\u001b[0m      has_sparse_grad\u001b[39m=\u001b[39;49mhas_sparse_grad,\n\u001b[1;32m    231\u001b[0m      maximize\u001b[39m=\u001b[39;49mmaximize)\n",
            "File \u001b[0;32m~/.local/lib/python3.10/site-packages/torch/optim/sgd.py:258\u001b[0m, in \u001b[0;36m_single_tensor_sgd\u001b[0;34m(params, d_p_list, momentum_buffer_list, weight_decay, momentum, lr, dampening, nesterov, maximize, has_sparse_grad)\u001b[0m\n\u001b[1;32m    256\u001b[0m     momentum_buffer_list[i] \u001b[39m=\u001b[39m buf\n\u001b[1;32m    257\u001b[0m \u001b[39melse\u001b[39;00m:\n\u001b[0;32m--> 258\u001b[0m     buf\u001b[39m.\u001b[39;49mmul_(momentum)\u001b[39m.\u001b[39;49madd_(d_p, alpha\u001b[39m=\u001b[39;49m\u001b[39m1\u001b[39;49m \u001b[39m-\u001b[39;49m dampening)\n\u001b[1;32m    260\u001b[0m \u001b[39mif\u001b[39;00m nesterov:\n\u001b[1;32m    261\u001b[0m     d_p \u001b[39m=\u001b[39m d_p\u001b[39m.\u001b[39madd(buf, alpha\u001b[39m=\u001b[39mmomentum)\n",
            "\u001b[0;31mKeyboardInterrupt\u001b[0m: "
          ]
        }
      ],
      "source": [
        "#%% train & validate\n",
        "\n",
        "nEpoch=20\n",
        "net=MTLNet()\n",
        "net.to(device)\n",
        "optimizer=torch.optim.SGD(net.parameters(),lr=0.01,momentum=0.9)\n",
        "\n",
        "running_loss = []\n",
        "validation_loss = []\n",
        "\n",
        "for iEpoch in range(nEpoch):\n",
        "    net.train()\n",
        "    totLoss=0\n",
        "    num_batches=0\n",
        "    for xbatch,ybatch in train_dl:\n",
        "        xbatch=xbatch.to(device)\n",
        "        ybatch=ybatch.to(device)\n",
        "        \n",
        "        points_out, width_out = net(xbatch)\n",
        "        loss = loss_fn(points_out, width_out, ybatch).to(device)\n",
        "        loss.backward()\n",
        "        \n",
        "        optimizer.step()\n",
        "        optimizer.zero_grad()\n",
        "        \n",
        "        totLoss += loss.item()\n",
        "        num_batches += 1\n",
        "        \n",
        "    avg_loss = totLoss / num_batches\n",
        "    running_loss.append(avg_loss)\n",
        "        #the usual. pass the output of your network to the custom loss function you made above\n",
        "        #use it to update the weights\n",
        "\n",
        "\n",
        "    net.eval()  # Set model to evaluation mode\n",
        "    totValLoss = 0\n",
        "    num_val_batches = 0\n",
        "\n",
        "    with torch.no_grad():  # Disable gradient computation during validation\n",
        "        for xbatch, ybatch in valid_dl:\n",
        "            xbatch = xbatch\n",
        "            ybatch = ybatch\n",
        "            \n",
        "            points_out, width_out = net(xbatch)\n",
        "            loss = loss_fn(points_out, width_out, ybatch)\n",
        "            \n",
        "            totValLoss += loss.item()\n",
        "            num_val_batches += 1\n",
        "\n",
        "    avg_val_loss = totValLoss / num_val_batches\n",
        "    validation_loss.append(avg_val_loss)\n",
        "    print(f\"Epoch [{iEpoch+1}/{nEpoch}] Train Loss: {avg_loss:.4f}, Validation Loss: {avg_val_loss:.4f}\")"
      ]
    },
    {
      "cell_type": "code",
      "execution_count": null,
      "metadata": {
        "id": "u5l1QdAgPB6z"
      },
      "outputs": [],
      "source": [
        "#evaluate\n",
        "\n",
        "#try plotting predictions vs. targets for both training data and validation data in a scatterplot, and see how much variation you've captured"
      ]
    }
  ],
  "metadata": {
    "accelerator": "GPU",
    "colab": {
      "provenance": []
    },
    "kernelspec": {
      "display_name": "Python 3",
      "name": "python3"
    },
    "language_info": {
      "codemirror_mode": {
        "name": "ipython",
        "version": 3
      },
      "file_extension": ".py",
      "mimetype": "text/x-python",
      "name": "python",
      "nbconvert_exporter": "python",
      "pygments_lexer": "ipython3",
      "version": "3.10.12"
    }
  },
  "nbformat": 4,
  "nbformat_minor": 0
}
